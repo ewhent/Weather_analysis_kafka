{
 "cells": [
  {
   "cell_type": "code",
   "execution_count": 10,
   "metadata": {},
   "outputs": [
    {
     "name": "stdout",
     "output_type": "stream",
     "text": [
      "Collecting python-dotenv\n",
      "  Downloading python_dotenv-1.0.1-py3-none-any.whl (19 kB)\n",
      "Installing collected packages: python-dotenv\n",
      "Successfully installed python-dotenv-1.0.1\n"
     ]
    },
    {
     "name": "stderr",
     "output_type": "stream",
     "text": [
      "\n",
      "[notice] A new release of pip is available: 23.0.1 -> 24.2\n",
      "[notice] To update, run: C:\\Users\\rangn\\AppData\\Local\\Microsoft\\WindowsApps\\PythonSoftwareFoundation.Python.3.10_qbz5n2kfra8p0\\python.exe -m pip install --upgrade pip\n"
     ]
    }
   ],
   "source": [
    "!pip install python-dotenv"
   ]
  },
  {
   "cell_type": "code",
   "execution_count": 14,
   "metadata": {},
   "outputs": [],
   "source": [
    "from kafka import KafkaProducer\n",
    "from time import sleep\n",
    "from json import dumps\n",
    "import json\n",
    "import os\n",
    "path = os.getcwd()\n",
    "import sys\n",
    "sys.path.insert(0,path)\n",
    "import producer_script"
   ]
  },
  {
   "cell_type": "code",
   "execution_count": 22,
   "metadata": {},
   "outputs": [],
   "source": [
    "producer = KafkaProducer(bootstrap_servers=['3.83.234.236:9092'])"
   ]
  },
  {
   "cell_type": "code",
   "execution_count": 16,
   "metadata": {},
   "outputs": [
    {
     "data": {
      "text/plain": [
       "<kafka.producer.kafka.KafkaProducer at 0x1d2fcd8faf0>"
      ]
     },
     "execution_count": 16,
     "metadata": {},
     "output_type": "execute_result"
    }
   ],
   "source": [
    "producer"
   ]
  },
  {
   "cell_type": "code",
   "execution_count": 23,
   "metadata": {},
   "outputs": [
    {
     "name": "stdout",
     "output_type": "stream",
     "text": [
      "{'id': 803, 'main': 'Clouds', 'description': 'broken clouds', 'icon': '04d', 'timezone': 0, 'region': 'Mali', 'latitude': 16.96, 'longitude': -3.91} \n",
      "\n",
      "{'id': 804, 'main': 'Clouds', 'description': 'overcast clouds', 'icon': '04d', 'timezone': -3600, 'region': '', 'latitude': 79.6, 'longitude': -46.68} \n",
      "\n",
      "{'id': 500, 'main': 'Rain', 'description': 'light rain', 'icon': '10d', 'timezone': -14400, 'region': '', 'latitude': 60.77, 'longitude': -60.5} \n",
      "\n",
      "{'id': 803, 'main': 'Clouds', 'description': 'broken clouds', 'icon': '04d', 'timezone': -10800, 'region': 'Hamilton', 'latitude': 31.84, 'longitude': -64.63} \n",
      "\n",
      "{'id': 804, 'main': 'Clouds', 'description': 'overcast clouds', 'icon': '04n', 'timezone': 10800, 'region': '', 'latitude': -52.67, 'longitude': 47.27} \n",
      "\n"
     ]
    }
   ],
   "source": [
    "for _ in range(1,6):\n",
    "    temp_dict = producer_script.data_producer()\n",
    "    print(temp_dict,'\\n')\n",
    "    # sleep(2)\n",
    "    temp_dict_serialized = json.dumps(temp_dict).encode('utf-8') \n",
    "    producer.send('demo_test',value=temp_dict_serialized)\n",
    "    sleep(2)\n"
   ]
  },
  {
   "cell_type": "code",
   "execution_count": 13,
   "metadata": {},
   "outputs": [
    {
     "data": {
      "text/plain": [
       "<kafka.producer.future.FutureRecordMetadata at 0x1d2fc281660>"
      ]
     },
     "execution_count": 13,
     "metadata": {},
     "output_type": "execute_result"
    }
   ],
   "source": [
    "producer.send('demo_test',value=json.dumps({'process':'ingesting data'}).encode('utf-8'))"
   ]
  },
  {
   "cell_type": "code",
   "execution_count": 21,
   "metadata": {},
   "outputs": [],
   "source": [
    "producer.flush()"
   ]
  },
  {
   "cell_type": "code",
   "execution_count": 12,
   "metadata": {},
   "outputs": [
    {
     "data": {
      "text/plain": [
       "b'{\"process\": \"ingesting data\"}'"
      ]
     },
     "execution_count": 12,
     "metadata": {},
     "output_type": "execute_result"
    }
   ],
   "source": [
    "json.dumps({'process':'ingesting data'}).encode('utf-8')"
   ]
  },
  {
   "cell_type": "code",
   "execution_count": null,
   "metadata": {},
   "outputs": [],
   "source": []
  }
 ],
 "metadata": {
  "kernelspec": {
   "display_name": "Python 3",
   "language": "python",
   "name": "python3"
  },
  "language_info": {
   "codemirror_mode": {
    "name": "ipython",
    "version": 3
   },
   "file_extension": ".py",
   "mimetype": "text/x-python",
   "name": "python",
   "nbconvert_exporter": "python",
   "pygments_lexer": "ipython3",
   "version": "3.10.11"
  }
 },
 "nbformat": 4,
 "nbformat_minor": 2
}
